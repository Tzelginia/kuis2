{
 "cells": [
  {
   "cell_type": "code",
   "execution_count": 1,
   "metadata": {},
   "outputs": [],
   "source": [
    "import pandas as pd\n",
    "import numpy as np"
   ]
  },
  {
   "cell_type": "code",
   "execution_count": 2,
   "metadata": {},
   "outputs": [
    {
     "data": {
      "text/html": [
       "<div>\n",
       "<style scoped>\n",
       "    .dataframe tbody tr th:only-of-type {\n",
       "        vertical-align: middle;\n",
       "    }\n",
       "\n",
       "    .dataframe tbody tr th {\n",
       "        vertical-align: top;\n",
       "    }\n",
       "\n",
       "    .dataframe thead th {\n",
       "        text-align: right;\n",
       "    }\n",
       "</style>\n",
       "<table border=\"1\" class=\"dataframe\">\n",
       "  <thead>\n",
       "    <tr style=\"text-align: right;\">\n",
       "      <th></th>\n",
       "      <th>id_ketua</th>\n",
       "      <th>id_anggota1</th>\n",
       "      <th>id_anggota2</th>\n",
       "      <th>id_anggota3</th>\n",
       "      <th>id_anggota4</th>\n",
       "      <th>id_anggota5</th>\n",
       "      <th>keterlibatan_vltr</th>\n",
       "      <th>jml_vltr_terlibat</th>\n",
       "      <th>tahun</th>\n",
       "      <th>skema</th>\n",
       "      <th>luaran_hki</th>\n",
       "      <th>jenis_luaran_hki</th>\n",
       "      <th>potensi_hki</th>\n",
       "      <th>luaran_lain</th>\n",
       "      <th>jenis_luaran_lain</th>\n",
       "      <th>status_luaran_lain</th>\n",
       "    </tr>\n",
       "  </thead>\n",
       "  <tbody>\n",
       "    <tr>\n",
       "      <th>0</th>\n",
       "      <td>7206.0</td>\n",
       "      <td>7214.0</td>\n",
       "      <td>6211.0</td>\n",
       "      <td>8602.0</td>\n",
       "      <td>7801.0</td>\n",
       "      <td>NaN</td>\n",
       "      <td>TIDAK</td>\n",
       "      <td>0</td>\n",
       "      <td>2019</td>\n",
       "      <td>REGULER</td>\n",
       "      <td>TIDAK ADA</td>\n",
       "      <td>TIDAK ADA</td>\n",
       "      <td>TIDAK</td>\n",
       "      <td>TIDAK ADA</td>\n",
       "      <td>TIDAK ADA</td>\n",
       "      <td>TIDAK ADA</td>\n",
       "    </tr>\n",
       "    <tr>\n",
       "      <th>1</th>\n",
       "      <td>7214.0</td>\n",
       "      <td>7109.0</td>\n",
       "      <td>8402.0</td>\n",
       "      <td>7903.0</td>\n",
       "      <td>9202.0</td>\n",
       "      <td>NaN</td>\n",
       "      <td>TIDAK</td>\n",
       "      <td>0</td>\n",
       "      <td>2019</td>\n",
       "      <td>REGULER</td>\n",
       "      <td>TIDAK ADA</td>\n",
       "      <td>TIDAK ADA</td>\n",
       "      <td>TIDAK</td>\n",
       "      <td>TIDAK ADA</td>\n",
       "      <td>TIDAK ADA</td>\n",
       "      <td>TIDAK ADA</td>\n",
       "    </tr>\n",
       "    <tr>\n",
       "      <th>2</th>\n",
       "      <td>5911.0</td>\n",
       "      <td>8201.0</td>\n",
       "      <td>8701.0</td>\n",
       "      <td>9101.0</td>\n",
       "      <td>9003.0</td>\n",
       "      <td>NaN</td>\n",
       "      <td>TIDAK</td>\n",
       "      <td>0</td>\n",
       "      <td>2019</td>\n",
       "      <td>REGULER</td>\n",
       "      <td>TIDAK ADA</td>\n",
       "      <td>TIDAK ADA</td>\n",
       "      <td>TIDAK</td>\n",
       "      <td>TIDAK ADA</td>\n",
       "      <td>TIDAK ADA</td>\n",
       "      <td>TIDAK ADA</td>\n",
       "    </tr>\n",
       "    <tr>\n",
       "      <th>3</th>\n",
       "      <td>8402.0</td>\n",
       "      <td>7702.0</td>\n",
       "      <td>8602.0</td>\n",
       "      <td>8903.0</td>\n",
       "      <td>8903.0</td>\n",
       "      <td>NaN</td>\n",
       "      <td>TIDAK</td>\n",
       "      <td>0</td>\n",
       "      <td>2019</td>\n",
       "      <td>REGULER</td>\n",
       "      <td>TIDAK ADA</td>\n",
       "      <td>TIDAK ADA</td>\n",
       "      <td>TIDAK</td>\n",
       "      <td>TIDAK ADA</td>\n",
       "      <td>TIDAK ADA</td>\n",
       "      <td>TIDAK ADA</td>\n",
       "    </tr>\n",
       "    <tr>\n",
       "      <th>4</th>\n",
       "      <td>8201.0</td>\n",
       "      <td>8305.0</td>\n",
       "      <td>5911.0</td>\n",
       "      <td>5903.0</td>\n",
       "      <td>8402.0</td>\n",
       "      <td>NaN</td>\n",
       "      <td>TIDAK</td>\n",
       "      <td>0</td>\n",
       "      <td>2019</td>\n",
       "      <td>REGULER</td>\n",
       "      <td>TIDAK ADA</td>\n",
       "      <td>TIDAK ADA</td>\n",
       "      <td>TIDAK</td>\n",
       "      <td>TIDAK ADA</td>\n",
       "      <td>TIDAK ADA</td>\n",
       "      <td>TIDAK ADA</td>\n",
       "    </tr>\n",
       "  </tbody>\n",
       "</table>\n",
       "</div>"
      ],
      "text/plain": [
       "   id_ketua  id_anggota1  id_anggota2  id_anggota3  id_anggota4  id_anggota5  \\\n",
       "0    7206.0       7214.0       6211.0       8602.0       7801.0          NaN   \n",
       "1    7214.0       7109.0       8402.0       7903.0       9202.0          NaN   \n",
       "2    5911.0       8201.0       8701.0       9101.0       9003.0          NaN   \n",
       "3    8402.0       7702.0       8602.0       8903.0       8903.0          NaN   \n",
       "4    8201.0       8305.0       5911.0       5903.0       8402.0          NaN   \n",
       "\n",
       "  keterlibatan_vltr  jml_vltr_terlibat  tahun    skema luaran_hki  \\\n",
       "0             TIDAK                  0   2019  REGULER  TIDAK ADA   \n",
       "1             TIDAK                  0   2019  REGULER  TIDAK ADA   \n",
       "2             TIDAK                  0   2019  REGULER  TIDAK ADA   \n",
       "3             TIDAK                  0   2019  REGULER  TIDAK ADA   \n",
       "4             TIDAK                  0   2019  REGULER  TIDAK ADA   \n",
       "\n",
       "  jenis_luaran_hki potensi_hki luaran_lain jenis_luaran_lain  \\\n",
       "0        TIDAK ADA       TIDAK   TIDAK ADA         TIDAK ADA   \n",
       "1        TIDAK ADA       TIDAK   TIDAK ADA         TIDAK ADA   \n",
       "2        TIDAK ADA       TIDAK   TIDAK ADA         TIDAK ADA   \n",
       "3        TIDAK ADA       TIDAK   TIDAK ADA         TIDAK ADA   \n",
       "4        TIDAK ADA       TIDAK   TIDAK ADA         TIDAK ADA   \n",
       "\n",
       "  status_luaran_lain  \n",
       "0          TIDAK ADA  \n",
       "1          TIDAK ADA  \n",
       "2          TIDAK ADA  \n",
       "3          TIDAK ADA  \n",
       "4          TIDAK ADA  "
      ]
     },
     "execution_count": 2,
     "metadata": {},
     "output_type": "execute_result"
    }
   ],
   "source": [
    "df = pd.read_csv('dataset_quiz.csv')\n",
    "\n",
    "df.head()"
   ]
  },
  {
   "cell_type": "code",
   "execution_count": 3,
   "metadata": {},
   "outputs": [
    {
     "data": {
      "text/plain": [
       "id_ketua               3\n",
       "id_anggota1            5\n",
       "id_anggota2            4\n",
       "id_anggota3            3\n",
       "id_anggota4           13\n",
       "id_anggota5           84\n",
       "keterlibatan_vltr      0\n",
       "jml_vltr_terlibat      0\n",
       "tahun                  0\n",
       "skema                  0\n",
       "luaran_hki             0\n",
       "jenis_luaran_hki       0\n",
       "potensi_hki            0\n",
       "luaran_lain            0\n",
       "jenis_luaran_lain      0\n",
       "status_luaran_lain     0\n",
       "dtype: int64"
      ]
     },
     "execution_count": 3,
     "metadata": {},
     "output_type": "execute_result"
    }
   ],
   "source": [
    "df.isna().sum()\n"
   ]
  },
  {
   "cell_type": "code",
   "execution_count": 4,
   "metadata": {},
   "outputs": [
    {
     "data": {
      "text/html": [
       "<div>\n",
       "<style scoped>\n",
       "    .dataframe tbody tr th:only-of-type {\n",
       "        vertical-align: middle;\n",
       "    }\n",
       "\n",
       "    .dataframe tbody tr th {\n",
       "        vertical-align: top;\n",
       "    }\n",
       "\n",
       "    .dataframe thead th {\n",
       "        text-align: right;\n",
       "    }\n",
       "</style>\n",
       "<table border=\"1\" class=\"dataframe\">\n",
       "  <thead>\n",
       "    <tr style=\"text-align: right;\">\n",
       "      <th></th>\n",
       "      <th>id_ketua</th>\n",
       "      <th>id_anggota1</th>\n",
       "      <th>id_anggota2</th>\n",
       "      <th>id_anggota3</th>\n",
       "      <th>id_anggota4</th>\n",
       "      <th>keterlibatan_vltr</th>\n",
       "      <th>jml_vltr_terlibat</th>\n",
       "      <th>tahun</th>\n",
       "      <th>skema</th>\n",
       "      <th>luaran_hki</th>\n",
       "      <th>jenis_luaran_hki</th>\n",
       "      <th>potensi_hki</th>\n",
       "      <th>luaran_lain</th>\n",
       "      <th>jenis_luaran_lain</th>\n",
       "      <th>status_luaran_lain</th>\n",
       "    </tr>\n",
       "  </thead>\n",
       "  <tbody>\n",
       "    <tr>\n",
       "      <th>0</th>\n",
       "      <td>7206.0</td>\n",
       "      <td>7214.0</td>\n",
       "      <td>6211.0</td>\n",
       "      <td>8602.0</td>\n",
       "      <td>7801.0</td>\n",
       "      <td>TIDAK</td>\n",
       "      <td>0</td>\n",
       "      <td>2019</td>\n",
       "      <td>REGULER</td>\n",
       "      <td>TIDAK ADA</td>\n",
       "      <td>TIDAK ADA</td>\n",
       "      <td>TIDAK</td>\n",
       "      <td>TIDAK ADA</td>\n",
       "      <td>TIDAK ADA</td>\n",
       "      <td>TIDAK ADA</td>\n",
       "    </tr>\n",
       "    <tr>\n",
       "      <th>1</th>\n",
       "      <td>7214.0</td>\n",
       "      <td>7109.0</td>\n",
       "      <td>8402.0</td>\n",
       "      <td>7903.0</td>\n",
       "      <td>9202.0</td>\n",
       "      <td>TIDAK</td>\n",
       "      <td>0</td>\n",
       "      <td>2019</td>\n",
       "      <td>REGULER</td>\n",
       "      <td>TIDAK ADA</td>\n",
       "      <td>TIDAK ADA</td>\n",
       "      <td>TIDAK</td>\n",
       "      <td>TIDAK ADA</td>\n",
       "      <td>TIDAK ADA</td>\n",
       "      <td>TIDAK ADA</td>\n",
       "    </tr>\n",
       "    <tr>\n",
       "      <th>2</th>\n",
       "      <td>5911.0</td>\n",
       "      <td>8201.0</td>\n",
       "      <td>8701.0</td>\n",
       "      <td>9101.0</td>\n",
       "      <td>9003.0</td>\n",
       "      <td>TIDAK</td>\n",
       "      <td>0</td>\n",
       "      <td>2019</td>\n",
       "      <td>REGULER</td>\n",
       "      <td>TIDAK ADA</td>\n",
       "      <td>TIDAK ADA</td>\n",
       "      <td>TIDAK</td>\n",
       "      <td>TIDAK ADA</td>\n",
       "      <td>TIDAK ADA</td>\n",
       "      <td>TIDAK ADA</td>\n",
       "    </tr>\n",
       "    <tr>\n",
       "      <th>3</th>\n",
       "      <td>8402.0</td>\n",
       "      <td>7702.0</td>\n",
       "      <td>8602.0</td>\n",
       "      <td>8903.0</td>\n",
       "      <td>8903.0</td>\n",
       "      <td>TIDAK</td>\n",
       "      <td>0</td>\n",
       "      <td>2019</td>\n",
       "      <td>REGULER</td>\n",
       "      <td>TIDAK ADA</td>\n",
       "      <td>TIDAK ADA</td>\n",
       "      <td>TIDAK</td>\n",
       "      <td>TIDAK ADA</td>\n",
       "      <td>TIDAK ADA</td>\n",
       "      <td>TIDAK ADA</td>\n",
       "    </tr>\n",
       "    <tr>\n",
       "      <th>4</th>\n",
       "      <td>8201.0</td>\n",
       "      <td>8305.0</td>\n",
       "      <td>5911.0</td>\n",
       "      <td>5903.0</td>\n",
       "      <td>8402.0</td>\n",
       "      <td>TIDAK</td>\n",
       "      <td>0</td>\n",
       "      <td>2019</td>\n",
       "      <td>REGULER</td>\n",
       "      <td>TIDAK ADA</td>\n",
       "      <td>TIDAK ADA</td>\n",
       "      <td>TIDAK</td>\n",
       "      <td>TIDAK ADA</td>\n",
       "      <td>TIDAK ADA</td>\n",
       "      <td>TIDAK ADA</td>\n",
       "    </tr>\n",
       "  </tbody>\n",
       "</table>\n",
       "</div>"
      ],
      "text/plain": [
       "   id_ketua  id_anggota1  id_anggota2  id_anggota3  id_anggota4  \\\n",
       "0    7206.0       7214.0       6211.0       8602.0       7801.0   \n",
       "1    7214.0       7109.0       8402.0       7903.0       9202.0   \n",
       "2    5911.0       8201.0       8701.0       9101.0       9003.0   \n",
       "3    8402.0       7702.0       8602.0       8903.0       8903.0   \n",
       "4    8201.0       8305.0       5911.0       5903.0       8402.0   \n",
       "\n",
       "  keterlibatan_vltr  jml_vltr_terlibat  tahun    skema luaran_hki  \\\n",
       "0             TIDAK                  0   2019  REGULER  TIDAK ADA   \n",
       "1             TIDAK                  0   2019  REGULER  TIDAK ADA   \n",
       "2             TIDAK                  0   2019  REGULER  TIDAK ADA   \n",
       "3             TIDAK                  0   2019  REGULER  TIDAK ADA   \n",
       "4             TIDAK                  0   2019  REGULER  TIDAK ADA   \n",
       "\n",
       "  jenis_luaran_hki potensi_hki luaran_lain jenis_luaran_lain  \\\n",
       "0        TIDAK ADA       TIDAK   TIDAK ADA         TIDAK ADA   \n",
       "1        TIDAK ADA       TIDAK   TIDAK ADA         TIDAK ADA   \n",
       "2        TIDAK ADA       TIDAK   TIDAK ADA         TIDAK ADA   \n",
       "3        TIDAK ADA       TIDAK   TIDAK ADA         TIDAK ADA   \n",
       "4        TIDAK ADA       TIDAK   TIDAK ADA         TIDAK ADA   \n",
       "\n",
       "  status_luaran_lain  \n",
       "0          TIDAK ADA  \n",
       "1          TIDAK ADA  \n",
       "2          TIDAK ADA  \n",
       "3          TIDAK ADA  \n",
       "4          TIDAK ADA  "
      ]
     },
     "execution_count": 4,
     "metadata": {},
     "output_type": "execute_result"
    }
   ],
   "source": [
    "df.drop('id_anggota5', axis=1, inplace=True)\n",
    "df.head()\n",
    "\n"
   ]
  },
  {
   "cell_type": "code",
   "execution_count": 5,
   "metadata": {},
   "outputs": [
    {
     "data": {
      "text/plain": [
       "id_ketua               3\n",
       "id_anggota1            5\n",
       "id_anggota2            4\n",
       "id_anggota3            3\n",
       "id_anggota4           13\n",
       "keterlibatan_vltr      0\n",
       "jml_vltr_terlibat      0\n",
       "tahun                  0\n",
       "skema                  0\n",
       "luaran_hki             0\n",
       "jenis_luaran_hki       0\n",
       "potensi_hki            0\n",
       "luaran_lain            0\n",
       "jenis_luaran_lain      0\n",
       "status_luaran_lain     0\n",
       "dtype: int64"
      ]
     },
     "execution_count": 5,
     "metadata": {},
     "output_type": "execute_result"
    }
   ],
   "source": [
    "df.isna().sum()"
   ]
  },
  {
   "cell_type": "code",
   "execution_count": 6,
   "metadata": {},
   "outputs": [
    {
     "data": {
      "text/plain": [
       "id_ketua               0\n",
       "id_anggota1            5\n",
       "id_anggota2            4\n",
       "id_anggota3            3\n",
       "id_anggota4           13\n",
       "keterlibatan_vltr      0\n",
       "jml_vltr_terlibat      0\n",
       "tahun                  0\n",
       "skema                  0\n",
       "luaran_hki             0\n",
       "jenis_luaran_hki       0\n",
       "potensi_hki            0\n",
       "luaran_lain            0\n",
       "jenis_luaran_lain      0\n",
       "status_luaran_lain     0\n",
       "dtype: int64"
      ]
     },
     "execution_count": 6,
     "metadata": {},
     "output_type": "execute_result"
    }
   ],
   "source": [
    "modus_ketua = df['id_ketua'].mode()[0]\n",
    "df['id_ketua'] = df['id_ketua'].fillna(modus_ketua)\n",
    "df.isna().sum()"
   ]
  },
  {
   "cell_type": "code",
   "execution_count": 7,
   "metadata": {},
   "outputs": [
    {
     "data": {
      "text/plain": [
       "id_ketua               0\n",
       "id_anggota1            0\n",
       "id_anggota2            4\n",
       "id_anggota3            3\n",
       "id_anggota4           13\n",
       "keterlibatan_vltr      0\n",
       "jml_vltr_terlibat      0\n",
       "tahun                  0\n",
       "skema                  0\n",
       "luaran_hki             0\n",
       "jenis_luaran_hki       0\n",
       "potensi_hki            0\n",
       "luaran_lain            0\n",
       "jenis_luaran_lain      0\n",
       "status_luaran_lain     0\n",
       "dtype: int64"
      ]
     },
     "execution_count": 7,
     "metadata": {},
     "output_type": "execute_result"
    }
   ],
   "source": [
    "modus_anggota1 = df['id_anggota1'].mode()[0]\n",
    "df['id_anggota1'] = df['id_anggota1'].fillna(modus_anggota1)\n",
    "df.isna().sum()"
   ]
  },
  {
   "cell_type": "code",
   "execution_count": 8,
   "metadata": {},
   "outputs": [
    {
     "data": {
      "text/plain": [
       "id_ketua               0\n",
       "id_anggota1            0\n",
       "id_anggota2            0\n",
       "id_anggota3            3\n",
       "id_anggota4           13\n",
       "keterlibatan_vltr      0\n",
       "jml_vltr_terlibat      0\n",
       "tahun                  0\n",
       "skema                  0\n",
       "luaran_hki             0\n",
       "jenis_luaran_hki       0\n",
       "potensi_hki            0\n",
       "luaran_lain            0\n",
       "jenis_luaran_lain      0\n",
       "status_luaran_lain     0\n",
       "dtype: int64"
      ]
     },
     "execution_count": 8,
     "metadata": {},
     "output_type": "execute_result"
    }
   ],
   "source": [
    "modus_anggota2 = df['id_anggota2'].mode()[0]\n",
    "df['id_anggota2'] = df['id_anggota2'].fillna(modus_anggota2)\n",
    "df.isna().sum()"
   ]
  },
  {
   "cell_type": "code",
   "execution_count": 9,
   "metadata": {},
   "outputs": [
    {
     "data": {
      "text/plain": [
       "id_ketua               0\n",
       "id_anggota1            0\n",
       "id_anggota2            0\n",
       "id_anggota3            0\n",
       "id_anggota4           13\n",
       "keterlibatan_vltr      0\n",
       "jml_vltr_terlibat      0\n",
       "tahun                  0\n",
       "skema                  0\n",
       "luaran_hki             0\n",
       "jenis_luaran_hki       0\n",
       "potensi_hki            0\n",
       "luaran_lain            0\n",
       "jenis_luaran_lain      0\n",
       "status_luaran_lain     0\n",
       "dtype: int64"
      ]
     },
     "execution_count": 9,
     "metadata": {},
     "output_type": "execute_result"
    }
   ],
   "source": [
    "modus_anggota3 = df['id_anggota3'].mode()[0]\n",
    "df['id_anggota3'] = df['id_anggota3'].fillna(modus_anggota3)\n",
    "df.isna().sum()"
   ]
  },
  {
   "cell_type": "code",
   "execution_count": 10,
   "metadata": {},
   "outputs": [
    {
     "data": {
      "text/plain": [
       "id_ketua              0\n",
       "id_anggota1           0\n",
       "id_anggota2           0\n",
       "id_anggota3           0\n",
       "id_anggota4           0\n",
       "keterlibatan_vltr     0\n",
       "jml_vltr_terlibat     0\n",
       "tahun                 0\n",
       "skema                 0\n",
       "luaran_hki            0\n",
       "jenis_luaran_hki      0\n",
       "potensi_hki           0\n",
       "luaran_lain           0\n",
       "jenis_luaran_lain     0\n",
       "status_luaran_lain    0\n",
       "dtype: int64"
      ]
     },
     "execution_count": 10,
     "metadata": {},
     "output_type": "execute_result"
    }
   ],
   "source": [
    "modus_anggota4 = df['id_anggota4'].mode()[0]\n",
    "df['id_anggota4'] = df['id_anggota4'].fillna(modus_anggota4)\n",
    "df.isna().sum()"
   ]
  },
  {
   "cell_type": "code",
   "execution_count": 11,
   "metadata": {},
   "outputs": [
    {
     "data": {
      "text/plain": [
       "<AxesSubplot:title={'center':'Jenis\\xa0Iuaran\\xa0Lain'}, ylabel='jenis_luaran_lain'>"
      ]
     },
     "execution_count": 11,
     "metadata": {},
     "output_type": "execute_result"
    },
    {
     "data": {
      "image/png": "[encoded data removed]",
      "text/plain": [
       "<Figure size 640x480 with 1 Axes>"
      ]
     },
     "metadata": {},
     "output_type": "display_data"
    }
   ],
   "source": [
    "# Bar Chart Horizontal\n",
    "df.groupby(['jenis_luaran_lain']).size().plot(\n",
    "    kind='barh', title='Jenis Iuaran Lain')"
   ]
  },
  {
   "cell_type": "code",
   "execution_count": 12,
   "metadata": {},
   "outputs": [
    {
     "name": "stderr",
     "output_type": "stream",
     "text": [
      "C:\\Users\\Tzelginia Noer C\\AppData\\Local\\Temp\\ipykernel_5760\\581660700.py:4: FutureWarning: The default value of numeric_only in DataFrameGroupBy.sum is deprecated. In a future version, numeric_only will default to False. Either specify numeric_only or select only columns which should be valid for the function.\n",
      "  df.groupby(['tahun']).sum().plot(\n"
     ]
    },
    {
     "data": {
      "text/plain": [
       "<matplotlib.legend.Legend at 0x2585d5915a0>"
      ]
     },
     "execution_count": 12,
     "metadata": {},
     "output_type": "execute_result"
    },
    {
     "data": {
      "image/png": "[encoded data removed]",
      "text/plain": [
       "<Figure size 640x480 with 1 Axes>"
      ]
     },
     "metadata": {},
     "output_type": "display_data"
    }
   ],
   "source": [
    "from matplotlib import pyplot as plt\n",
    "\n",
    "\n",
    "df.groupby(['tahun']).sum().plot(\n",
    "    kind='line', y='jml_vltr_terlibat', title='Jumlah Volunteer Setiap Tahun', grid=True)\n",
    "\n",
    "plt.legend(['Jumlah volunteer'])"
   ]
  },
  {
   "cell_type": "code",
   "execution_count": 13,
   "metadata": {},
   "outputs": [
    {
     "name": "stderr",
     "output_type": "stream",
     "text": [
      "C:\\Users\\Tzelginia Noer C\\AppData\\Local\\Temp\\ipykernel_5760\\4034230968.py:5: FutureWarning: The default value of numeric_only in DataFrameGroupBy.sum is deprecated. In a future version, numeric_only will default to False. Either specify numeric_only or select only columns which should be valid for the function.\n",
      "  df.groupby(['keterlibatan_vltr']).sum().plot(\n"
     ]
    },
    {
     "data": {
      "text/plain": [
       "<AxesSubplot:ylabel='id_ketua'>"
      ]
     },
     "execution_count": 13,
     "metadata": {},
     "output_type": "execute_result"
    },
    {
     "data": {
      "image/png": "[encoded data removed]",
      "text/plain": [
       "<Figure size 640x480 with 1 Axes>"
      ]
     },
     "metadata": {},
     "output_type": "display_data"
    }
   ],
   "source": [
    "# Pie Chart\n",
    "# Persentase keterlibatan volunteer pada tim\n",
    "colors = ['pink', 'steelblue']\n",
    "\n",
    "df.groupby(['keterlibatan_vltr']).sum().plot(\n",
    "    kind='pie', y='id_ketua', autopct='%1.0f%%')"
   ]
  },
  {
   "cell_type": "code",
   "execution_count": 14,
   "metadata": {},
   "outputs": [
    {
     "data": {
      "text/plain": [
       "<AxesSubplot:title={'center':'Status\\xa0Luaran\\xa0Lain'}, xlabel='status_luaran_lain'>"
      ]
     },
     "execution_count": 14,
     "metadata": {},
     "output_type": "execute_result"
    },
    {
     "data": {
      "image/png": "[encoded data removed]",
      "text/plain": [
       "<Figure size 640x480 with 1 Axes>"
      ]
     },
     "metadata": {},
     "output_type": "display_data"
    }
   ],
   "source": [
    "# Bar Chart Vertikal\n",
    "df.groupby(['status_luaran_lain']).size().plot(\n",
    "    kind='bar', title='Status Luaran Lain')"
   ]
  },
  {
   "cell_type": "code",
   "execution_count": 15,
   "metadata": {},
   "outputs": [
    {
     "data": {
      "text/html": [
       "<div>\n",
       "<style scoped>\n",
       "    .dataframe tbody tr th:only-of-type {\n",
       "        vertical-align: middle;\n",
       "    }\n",
       "\n",
       "    .dataframe tbody tr th {\n",
       "        vertical-align: top;\n",
       "    }\n",
       "\n",
       "    .dataframe thead th {\n",
       "        text-align: right;\n",
       "    }\n",
       "</style>\n",
       "<table border=\"1\" class=\"dataframe\">\n",
       "  <thead>\n",
       "    <tr style=\"text-align: right;\">\n",
       "      <th></th>\n",
       "      <th>id_ketua</th>\n",
       "      <th>id_anggota1</th>\n",
       "      <th>id_anggota2</th>\n",
       "      <th>id_anggota3</th>\n",
       "      <th>id_anggota4</th>\n",
       "      <th>keterlibatan_vltr</th>\n",
       "      <th>jml_vltr_terlibat</th>\n",
       "      <th>tahun</th>\n",
       "      <th>skema</th>\n",
       "      <th>luaran_hki</th>\n",
       "      <th>jenis_luaran_hki</th>\n",
       "      <th>potensi_hki</th>\n",
       "      <th>luaran_lain</th>\n",
       "      <th>jenis_luaran_lain</th>\n",
       "      <th>status_luaran_lain</th>\n",
       "    </tr>\n",
       "  </thead>\n",
       "  <tbody>\n",
       "    <tr>\n",
       "      <th>0</th>\n",
       "      <td>7206.0</td>\n",
       "      <td>7214.0</td>\n",
       "      <td>6211.0</td>\n",
       "      <td>8602.0</td>\n",
       "      <td>7801.0</td>\n",
       "      <td>0</td>\n",
       "      <td>0</td>\n",
       "      <td>2019</td>\n",
       "      <td>1</td>\n",
       "      <td>1</td>\n",
       "      <td>1</td>\n",
       "      <td>2</td>\n",
       "      <td>0</td>\n",
       "      <td>3</td>\n",
       "      <td>1</td>\n",
       "    </tr>\n",
       "    <tr>\n",
       "      <th>1</th>\n",
       "      <td>7214.0</td>\n",
       "      <td>7109.0</td>\n",
       "      <td>8402.0</td>\n",
       "      <td>7903.0</td>\n",
       "      <td>9202.0</td>\n",
       "      <td>0</td>\n",
       "      <td>0</td>\n",
       "      <td>2019</td>\n",
       "      <td>1</td>\n",
       "      <td>1</td>\n",
       "      <td>1</td>\n",
       "      <td>2</td>\n",
       "      <td>0</td>\n",
       "      <td>3</td>\n",
       "      <td>1</td>\n",
       "    </tr>\n",
       "    <tr>\n",
       "      <th>2</th>\n",
       "      <td>5911.0</td>\n",
       "      <td>8201.0</td>\n",
       "      <td>8701.0</td>\n",
       "      <td>9101.0</td>\n",
       "      <td>9003.0</td>\n",
       "      <td>0</td>\n",
       "      <td>0</td>\n",
       "      <td>2019</td>\n",
       "      <td>1</td>\n",
       "      <td>1</td>\n",
       "      <td>1</td>\n",
       "      <td>2</td>\n",
       "      <td>0</td>\n",
       "      <td>3</td>\n",
       "      <td>1</td>\n",
       "    </tr>\n",
       "    <tr>\n",
       "      <th>3</th>\n",
       "      <td>8402.0</td>\n",
       "      <td>7702.0</td>\n",
       "      <td>8602.0</td>\n",
       "      <td>8903.0</td>\n",
       "      <td>8903.0</td>\n",
       "      <td>0</td>\n",
       "      <td>0</td>\n",
       "      <td>2019</td>\n",
       "      <td>1</td>\n",
       "      <td>1</td>\n",
       "      <td>1</td>\n",
       "      <td>2</td>\n",
       "      <td>0</td>\n",
       "      <td>3</td>\n",
       "      <td>1</td>\n",
       "    </tr>\n",
       "    <tr>\n",
       "      <th>4</th>\n",
       "      <td>8201.0</td>\n",
       "      <td>8305.0</td>\n",
       "      <td>5911.0</td>\n",
       "      <td>5903.0</td>\n",
       "      <td>8402.0</td>\n",
       "      <td>0</td>\n",
       "      <td>0</td>\n",
       "      <td>2019</td>\n",
       "      <td>1</td>\n",
       "      <td>1</td>\n",
       "      <td>1</td>\n",
       "      <td>2</td>\n",
       "      <td>0</td>\n",
       "      <td>3</td>\n",
       "      <td>1</td>\n",
       "    </tr>\n",
       "  </tbody>\n",
       "</table>\n",
       "</div>"
      ],
      "text/plain": [
       "   id_ketua  id_anggota1  id_anggota2  id_anggota3  id_anggota4  \\\n",
       "0    7206.0       7214.0       6211.0       8602.0       7801.0   \n",
       "1    7214.0       7109.0       8402.0       7903.0       9202.0   \n",
       "2    5911.0       8201.0       8701.0       9101.0       9003.0   \n",
       "3    8402.0       7702.0       8602.0       8903.0       8903.0   \n",
       "4    8201.0       8305.0       5911.0       5903.0       8402.0   \n",
       "\n",
       "   keterlibatan_vltr  jml_vltr_terlibat  tahun  skema  luaran_hki  \\\n",
       "0                  0                  0   2019      1           1   \n",
       "1                  0                  0   2019      1           1   \n",
       "2                  0                  0   2019      1           1   \n",
       "3                  0                  0   2019      1           1   \n",
       "4                  0                  0   2019      1           1   \n",
       "\n",
       "   jenis_luaran_hki  potensi_hki  luaran_lain  jenis_luaran_lain  \\\n",
       "0                 1            2            0                  3   \n",
       "1                 1            2            0                  3   \n",
       "2                 1            2            0                  3   \n",
       "3                 1            2            0                  3   \n",
       "4                 1            2            0                  3   \n",
       "\n",
       "   status_luaran_lain  \n",
       "0                   1  \n",
       "1                   1  \n",
       "2                   1  \n",
       "3                   1  \n",
       "4                   1  "
      ]
     },
     "execution_count": 15,
     "metadata": {},
     "output_type": "execute_result"
    }
   ],
   "source": [
    "from sklearn.preprocessing import LabelEncoder\n",
    "encode = LabelEncoder()\n",
    "df['keterlibatan_vltr'] = encode.fit_transform(df['keterlibatan_vltr'])\n",
    "df['skema'] = encode.fit_transform(df['skema'])\n",
    "df['luaran_hki'] = encode.fit_transform(df['luaran_hki'])\n",
    "df['jenis_luaran_hki'] = encode.fit_transform(df['jenis_luaran_hki'])\n",
    "df['potensi_hki'] = encode.fit_transform(df['potensi_hki'])\n",
    "df['luaran_lain'] = encode.fit_transform(df['luaran_lain'])\n",
    "df['jenis_luaran_lain'] = encode.fit_transform(df['jenis_luaran_lain'])\n",
    "df['status_luaran_lain'] = encode.fit_transform(df['status_luaran_lain'])\n",
    "df.head()"
   ]
  },
  {
   "cell_type": "code",
   "execution_count": 16,
   "metadata": {},
   "outputs": [
    {
     "data": {
      "text/plain": [
       "(85, 7)"
      ]
     },
     "execution_count": 16,
     "metadata": {},
     "output_type": "execute_result"
    }
   ],
   "source": [
    "X = df.iloc[:,7:-1]\n",
    "y = df['keterlibatan_vltr']\n",
    "\n",
    "X.shape"
   ]
  },
  {
   "cell_type": "code",
   "execution_count": 17,
   "metadata": {},
   "outputs": [],
   "source": [
    "from sklearn.model_selection import train_test_split\n",
    "\n",
    "X_train, X_test, y_train, y_test = train_test_split(X, y, test_size=0.3, random_state=1)\n",
    "\n",
    "X_val, X_unseen, y_val, y_unseen = train_test_split(X_test, y_test, test_size=0.6, random_state=10)"
   ]
  },
  {
   "cell_type": "code",
   "execution_count": 18,
   "metadata": {},
   "outputs": [
    {
     "name": "stdout",
     "output_type": "stream",
     "text": [
      "Test set accuracy: 0.54\n",
      "Test set accuracy: 0.5384615384615384\n"
     ]
    }
   ],
   "source": [
    "from sklearn.tree import DecisionTreeClassifier\n",
    "from sklearn.metrics import accuracy_score, classification_report\n",
    "\n",
    "dt = DecisionTreeClassifier()\n",
    "dt.fit(X_train, y_train)\n",
    "\n",
    "y_pred_dt = dt.predict(X_test)\n",
    "\n",
    "acc_dt = accuracy_score(y_test, y_pred_dt)\n",
    "print(\"Test set accuracy: {:.2f}\".format(acc_dt))\n",
    "print(f\"Test set accuracy: {acc_dt}\")"
   ]
  },
  {
   "cell_type": "code",
   "execution_count": 19,
   "metadata": {},
   "outputs": [
    {
     "name": "stdout",
     "output_type": "stream",
     "text": [
      "Test set accuracy: 0.62\n",
      "Test set accuracy: 0.6153846153846154\n"
     ]
    }
   ],
   "source": [
    "from sklearn.ensemble import RandomForestClassifier\n",
    "\n",
    "rf = RandomForestClassifier(n_estimators=20, random_state=5)\n",
    "\n",
    "rf.fit(X_train, y_train)\n",
    "\n",
    "y_pred_rf = rf.predict(X_test)\n",
    "\n",
    "acc_rf = accuracy_score(y_test, y_pred_rf)\n",
    "print(\"Test set accuracy: {:.2f}\".format(acc_rf))\n",
    "print(f\"Test set accuracy: {acc_rf}\")"
   ]
  }
 ],
 "metadata": {
  "kernelspec": {
   "display_name": "Python 3.10.0 64-bit",
   "language": "python",
   "name": "python3"
  },
  "language_info": {
   "codemirror_mode": {
    "name": "ipython",
    "version": 3
   },
   "file_extension": ".py",
   "mimetype": "text/x-python",
   "name": "python",
   "nbconvert_exporter": "python",
   "pygments_lexer": "ipython3",
   "version": "3.10.0"
  },
  "orig_nbformat": 4,
  "vscode": {
   "interpreter": {
    "hash": "77524f34e0916c771c1b876b4b7ca892b5b7dcb0a9a4e7d7fc451c6d99477606"
   }
  }
 },
 "nbformat": 4,
 "nbformat_minor": 2
}
